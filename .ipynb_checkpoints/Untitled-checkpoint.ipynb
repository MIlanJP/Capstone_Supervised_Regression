{
 "cells": [
  {
   "cell_type": "markdown",
   "id": "a57394a4",
   "metadata": {},
   "source": [
    "# <b><u> Project Title : Seoul Bike Sharing Demand Prediction </u></b>"
   ]
  },
  {
   "cell_type": "markdown",
   "id": "703ce034",
   "metadata": {},
   "source": [
    "## <b> Problem Description </b>\n",
    "\n",
    "### Currently Rental bikes are introduced in many urban cities for the enhancement of mobility comfort. It is important to make the rental bike available and accessible to the public at the right time as it lessens the waiting time. Eventually, providing the city with a stable supply of rental bikes becomes a major concern. The crucial part is the prediction of bike count required at each hour for the stable supply of rental bikes.\n"
   ]
  },
  {
   "cell_type": "markdown",
   "id": "bdd9baa9",
   "metadata": {},
   "source": [
    "## <b> Data Description </b>\n",
    "\n",
    "### <b> The dataset contains weather information (Temperature, Humidity, Windspeed, Visibility, Dewpoint, Solar radiation, Snowfall, Rainfall), the number of bikes rented per hour and date information.</b>\n",
    "\n",
    "\n",
    "### <b>Attribute Information: </b>\n",
    "\n",
    "* ### Date : year-month-day\n",
    "* ### Rented Bike count - Count of bikes rented at each hour\n",
    "* ### Hour - Hour of he day\n",
    "* ### Temperature-Temperature in Celsius\n",
    "* ### Humidity - %\n",
    "* ### Windspeed - m/s\n",
    "* ### Visibility - 10m\n",
    "* ### Dew point temperature - Celsius\n",
    "* ### Solar radiation - MJ/m2\n",
    "* ### Rainfall - mm\n",
    "* ### Snowfall - cm\n",
    "* ### Seasons - Winter, Spring, Summer, Autumn\n",
    "* ### Holiday - Holiday/No holiday\n",
    "* ### Functional Day - NoFunc(Non Functional Hours), Fun(Functional hours)"
   ]
  },
  {
   "cell_type": "code",
   "execution_count": null,
   "id": "11b5cc7b",
   "metadata": {},
   "outputs": [],
   "source": []
  }
 ],
 "metadata": {
  "kernelspec": {
   "display_name": "Python 3",
   "language": "python",
   "name": "python3"
  },
  "language_info": {
   "codemirror_mode": {
    "name": "ipython",
    "version": 3
   },
   "file_extension": ".py",
   "mimetype": "text/x-python",
   "name": "python",
   "nbconvert_exporter": "python",
   "pygments_lexer": "ipython3",
   "version": "3.8.8"
  },
  "nbTranslate": {
   "displayLangs": [
    "*"
   ],
   "hotkey": "alt-t",
   "langInMainMenu": true,
   "sourceLang": "en",
   "targetLang": "fr",
   "useGoogleTranslate": true
  },
  "varInspector": {
   "cols": {
    "lenName": 16,
    "lenType": 16,
    "lenVar": 40
   },
   "kernels_config": {
    "python": {
     "delete_cmd_postfix": "",
     "delete_cmd_prefix": "del ",
     "library": "var_list.py",
     "varRefreshCmd": "print(var_dic_list())"
    },
    "r": {
     "delete_cmd_postfix": ") ",
     "delete_cmd_prefix": "rm(",
     "library": "var_list.r",
     "varRefreshCmd": "cat(var_dic_list()) "
    }
   },
   "types_to_exclude": [
    "module",
    "function",
    "builtin_function_or_method",
    "instance",
    "_Feature"
   ],
   "window_display": false
  }
 },
 "nbformat": 4,
 "nbformat_minor": 5
}
